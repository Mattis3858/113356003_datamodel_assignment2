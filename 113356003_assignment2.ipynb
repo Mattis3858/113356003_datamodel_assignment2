{
 "cells": [
  {
   "cell_type": "markdown",
   "metadata": {},
   "source": [
    "pip install\n"
   ]
  },
  {
   "cell_type": "code",
   "execution_count": 1,
   "metadata": {},
   "outputs": [
    {
     "name": "stdout",
     "output_type": "stream",
     "text": [
      "Requirement already satisfied: pip in c:\\users\\hp\\desktop\\vscode\\113356003_datamodel_assignment2\\venv\\lib\\site-packages (23.1.2)\n",
      "Collecting pip\n",
      "  Downloading pip-24.3.1-py3-none-any.whl (1.8 MB)\n",
      "                                              0.0/1.8 MB ? eta -:--:--\n",
      "                                              0.0/1.8 MB 1.3 MB/s eta 0:00:02\n",
      "     --                                       0.1/1.8 MB 1.3 MB/s eta 0:00:02\n",
      "     ------                                   0.3/1.8 MB 2.1 MB/s eta 0:00:01\n",
      "     -----------                              0.5/1.8 MB 3.0 MB/s eta 0:00:01\n",
      "     -----------------                        0.8/1.8 MB 3.6 MB/s eta 0:00:01\n",
      "     ------------------------                 1.1/1.8 MB 4.1 MB/s eta 0:00:01\n",
      "     ----------------------------------       1.6/1.8 MB 4.9 MB/s eta 0:00:01\n",
      "     --------------------------------------   1.8/1.8 MB 5.1 MB/s eta 0:00:01\n",
      "     --------------------------------------   1.8/1.8 MB 5.1 MB/s eta 0:00:01\n",
      "     --------------------------------------   1.8/1.8 MB 5.1 MB/s eta 0:00:01\n",
      "     --------------------------------------   1.8/1.8 MB 5.1 MB/s eta 0:00:01\n",
      "     --------------------------------------   1.8/1.8 MB 5.1 MB/s eta 0:00:01\n",
      "     --------------------------------------   1.8/1.8 MB 5.1 MB/s eta 0:00:01\n",
      "     ---------------------------------------  1.8/1.8 MB 2.8 MB/s eta 0:00:01\n",
      "     ---------------------------------------  1.8/1.8 MB 2.8 MB/s eta 0:00:01\n",
      "     ---------------------------------------  1.8/1.8 MB 2.8 MB/s eta 0:00:01\n",
      "     ---------------------------------------  1.8/1.8 MB 2.8 MB/s eta 0:00:01\n",
      "     ---------------------------------------- 1.8/1.8 MB 2.2 MB/s eta 0:00:00\n",
      "Installing collected packages: pip\n",
      "  Attempting uninstall: pip\n",
      "    Found existing installation: pip 23.1.2\n",
      "    Uninstalling pip-23.1.2:\n",
      "      Successfully uninstalled pip-23.1.2\n",
      "Successfully installed pip-24.3.1\n",
      "Note: you may need to restart the kernel to use updated packages.\n",
      "Requirement already satisfied: google in c:\\users\\hp\\desktop\\vscode\\113356003_datamodel_assignment2\\venv\\lib\\site-packages (3.0.0)\n",
      "Requirement already satisfied: beautifulsoup4 in c:\\users\\hp\\desktop\\vscode\\113356003_datamodel_assignment2\\venv\\lib\\site-packages (from google) (4.12.3)\n",
      "Requirement already satisfied: soupsieve>1.2 in c:\\users\\hp\\desktop\\vscode\\113356003_datamodel_assignment2\\venv\\lib\\site-packages (from beautifulsoup4->google) (2.6)\n",
      "Note: you may need to restart the kernel to use updated packages.\n",
      "Requirement already satisfied: google-cloud-bigtable in c:\\users\\hp\\desktop\\vscode\\113356003_datamodel_assignment2\\venv\\lib\\site-packages (2.26.0)Note: you may need to restart the kernel to use updated packages.\n",
      "\n",
      "Requirement already satisfied: google-api-core<3.0.0dev,>=2.16.0 in c:\\users\\hp\\desktop\\vscode\\113356003_datamodel_assignment2\\venv\\lib\\site-packages (from google-api-core[grpc]<3.0.0dev,>=2.16.0->google-cloud-bigtable) (2.22.0)\n",
      "Requirement already satisfied: google-cloud-core<3.0.0dev,>=1.4.4 in c:\\users\\hp\\desktop\\vscode\\113356003_datamodel_assignment2\\venv\\lib\\site-packages (from google-cloud-bigtable) (2.4.1)\n",
      "Requirement already satisfied: google-auth!=2.24.0,!=2.25.0,<3.0.0dev,>=2.14.1 in c:\\users\\hp\\desktop\\vscode\\113356003_datamodel_assignment2\\venv\\lib\\site-packages (from google-cloud-bigtable) (2.36.0)\n",
      "Requirement already satisfied: grpc-google-iam-v1<1.0.0dev,>=0.12.4 in c:\\users\\hp\\desktop\\vscode\\113356003_datamodel_assignment2\\venv\\lib\\site-packages (from google-cloud-bigtable) (0.13.1)\n",
      "Requirement already satisfied: proto-plus<2.0.0dev,>=1.22.3 in c:\\users\\hp\\desktop\\vscode\\113356003_datamodel_assignment2\\venv\\lib\\site-packages (from google-cloud-bigtable) (1.25.0)\n",
      "Requirement already satisfied: protobuf!=4.21.0,!=4.21.1,!=4.21.2,!=4.21.3,!=4.21.4,!=4.21.5,<6.0.0dev,>=3.20.2 in c:\\users\\hp\\desktop\\vscode\\113356003_datamodel_assignment2\\venv\\lib\\site-packages (from google-cloud-bigtable) (5.28.3)\n",
      "Requirement already satisfied: googleapis-common-protos<2.0.dev0,>=1.56.2 in c:\\users\\hp\\desktop\\vscode\\113356003_datamodel_assignment2\\venv\\lib\\site-packages (from google-api-core<3.0.0dev,>=2.16.0->google-api-core[grpc]<3.0.0dev,>=2.16.0->google-cloud-bigtable) (1.65.0)\n",
      "Requirement already satisfied: requests<3.0.0.dev0,>=2.18.0 in c:\\users\\hp\\desktop\\vscode\\113356003_datamodel_assignment2\\venv\\lib\\site-packages (from google-api-core<3.0.0dev,>=2.16.0->google-api-core[grpc]<3.0.0dev,>=2.16.0->google-cloud-bigtable) (2.32.3)\n",
      "Requirement already satisfied: grpcio<2.0dev,>=1.33.2 in c:\\users\\hp\\desktop\\vscode\\113356003_datamodel_assignment2\\venv\\lib\\site-packages (from google-api-core[grpc]<3.0.0dev,>=2.16.0->google-cloud-bigtable) (1.67.1)\n",
      "Requirement already satisfied: grpcio-status<2.0.dev0,>=1.33.2 in c:\\users\\hp\\desktop\\vscode\\113356003_datamodel_assignment2\\venv\\lib\\site-packages (from google-api-core[grpc]<3.0.0dev,>=2.16.0->google-cloud-bigtable) (1.67.1)\n",
      "Requirement already satisfied: cachetools<6.0,>=2.0.0 in c:\\users\\hp\\desktop\\vscode\\113356003_datamodel_assignment2\\venv\\lib\\site-packages (from google-auth!=2.24.0,!=2.25.0,<3.0.0dev,>=2.14.1->google-cloud-bigtable) (5.5.0)\n",
      "Requirement already satisfied: pyasn1-modules>=0.2.1 in c:\\users\\hp\\desktop\\vscode\\113356003_datamodel_assignment2\\venv\\lib\\site-packages (from google-auth!=2.24.0,!=2.25.0,<3.0.0dev,>=2.14.1->google-cloud-bigtable) (0.4.1)\n",
      "Requirement already satisfied: rsa<5,>=3.1.4 in c:\\users\\hp\\desktop\\vscode\\113356003_datamodel_assignment2\\venv\\lib\\site-packages (from google-auth!=2.24.0,!=2.25.0,<3.0.0dev,>=2.14.1->google-cloud-bigtable) (4.9)\n",
      "Requirement already satisfied: pyasn1<0.7.0,>=0.4.6 in c:\\users\\hp\\desktop\\vscode\\113356003_datamodel_assignment2\\venv\\lib\\site-packages (from pyasn1-modules>=0.2.1->google-auth!=2.24.0,!=2.25.0,<3.0.0dev,>=2.14.1->google-cloud-bigtable) (0.6.1)\n",
      "Requirement already satisfied: charset-normalizer<4,>=2 in c:\\users\\hp\\desktop\\vscode\\113356003_datamodel_assignment2\\venv\\lib\\site-packages (from requests<3.0.0.dev0,>=2.18.0->google-api-core<3.0.0dev,>=2.16.0->google-api-core[grpc]<3.0.0dev,>=2.16.0->google-cloud-bigtable) (3.4.0)\n",
      "Requirement already satisfied: idna<4,>=2.5 in c:\\users\\hp\\desktop\\vscode\\113356003_datamodel_assignment2\\venv\\lib\\site-packages (from requests<3.0.0.dev0,>=2.18.0->google-api-core<3.0.0dev,>=2.16.0->google-api-core[grpc]<3.0.0dev,>=2.16.0->google-cloud-bigtable) (3.10)\n",
      "Requirement already satisfied: urllib3<3,>=1.21.1 in c:\\users\\hp\\desktop\\vscode\\113356003_datamodel_assignment2\\venv\\lib\\site-packages (from requests<3.0.0.dev0,>=2.18.0->google-api-core<3.0.0dev,>=2.16.0->google-api-core[grpc]<3.0.0dev,>=2.16.0->google-cloud-bigtable) (2.2.3)\n",
      "Requirement already satisfied: certifi>=2017.4.17 in c:\\users\\hp\\desktop\\vscode\\113356003_datamodel_assignment2\\venv\\lib\\site-packages (from requests<3.0.0.dev0,>=2.18.0->google-api-core<3.0.0dev,>=2.16.0->google-api-core[grpc]<3.0.0dev,>=2.16.0->google-cloud-bigtable) (2024.8.30)\n",
      "Requirement already satisfied: google-cloud-bigquery in c:\\users\\hp\\desktop\\vscode\\113356003_datamodel_assignment2\\venv\\lib\\site-packages (3.26.0)\n",
      "Requirement already satisfied: google-api-core<3.0.0dev,>=2.11.1 in c:\\users\\hp\\desktop\\vscode\\113356003_datamodel_assignment2\\venv\\lib\\site-packages (from google-api-core[grpc]<3.0.0dev,>=2.11.1->google-cloud-bigquery) (2.22.0)\n",
      "Requirement already satisfied: google-auth<3.0.0dev,>=2.14.1 in c:\\users\\hp\\desktop\\vscode\\113356003_datamodel_assignment2\\venv\\lib\\site-packages (from google-cloud-bigquery) (2.36.0)\n",
      "Requirement already satisfied: google-cloud-core<3.0.0dev,>=2.4.1 in c:\\users\\hp\\desktop\\vscode\\113356003_datamodel_assignment2\\venv\\lib\\site-packages (from google-cloud-bigquery) (2.4.1)\n",
      "Requirement already satisfied: google-resumable-media<3.0dev,>=2.0.0 in c:\\users\\hp\\desktop\\vscode\\113356003_datamodel_assignment2\\venv\\lib\\site-packages (from google-cloud-bigquery) (2.7.2)\n",
      "Requirement already satisfied: packaging>=20.0.0 in c:\\users\\hp\\desktop\\vscode\\113356003_datamodel_assignment2\\venv\\lib\\site-packages (from google-cloud-bigquery) (24.1)\n",
      "Requirement already satisfied: python-dateutil<3.0dev,>=2.7.3 in c:\\users\\hp\\desktop\\vscode\\113356003_datamodel_assignment2\\venv\\lib\\site-packages (from google-cloud-bigquery) (2.9.0.post0)\n",
      "Requirement already satisfied: requests<3.0.0dev,>=2.21.0 in c:\\users\\hp\\desktop\\vscode\\113356003_datamodel_assignment2\\venv\\lib\\site-packages (from google-cloud-bigquery) (2.32.3)\n",
      "Requirement already satisfied: googleapis-common-protos<2.0.dev0,>=1.56.2 in c:\\users\\hp\\desktop\\vscode\\113356003_datamodel_assignment2\\venv\\lib\\site-packages (from google-api-core<3.0.0dev,>=2.11.1->google-api-core[grpc]<3.0.0dev,>=2.11.1->google-cloud-bigquery) (1.65.0)\n",
      "Requirement already satisfied: protobuf!=3.20.0,!=3.20.1,!=4.21.0,!=4.21.1,!=4.21.2,!=4.21.3,!=4.21.4,!=4.21.5,<6.0.0.dev0,>=3.19.5 in c:\\users\\hp\\desktop\\vscode\\113356003_datamodel_assignment2\\venv\\lib\\site-packages (from google-api-core<3.0.0dev,>=2.11.1->google-api-core[grpc]<3.0.0dev,>=2.11.1->google-cloud-bigquery) (5.28.3)\n",
      "Requirement already satisfied: proto-plus<2.0.0dev,>=1.22.3 in c:\\users\\hp\\desktop\\vscode\\113356003_datamodel_assignment2\\venv\\lib\\site-packages (from google-api-core<3.0.0dev,>=2.11.1->google-api-core[grpc]<3.0.0dev,>=2.11.1->google-cloud-bigquery) (1.25.0)\n",
      "Requirement already satisfied: grpcio<2.0dev,>=1.33.2 in c:\\users\\hp\\desktop\\vscode\\113356003_datamodel_assignment2\\venv\\lib\\site-packages (from google-api-core[grpc]<3.0.0dev,>=2.11.1->google-cloud-bigquery) (1.67.1)\n",
      "Requirement already satisfied: grpcio-status<2.0.dev0,>=1.33.2 in c:\\users\\hp\\desktop\\vscode\\113356003_datamodel_assignment2\\venv\\lib\\site-packages (from google-api-core[grpc]<3.0.0dev,>=2.11.1->google-cloud-bigquery) (1.67.1)\n",
      "Requirement already satisfied: cachetools<6.0,>=2.0.0 in c:\\users\\hp\\desktop\\vscode\\113356003_datamodel_assignment2\\venv\\lib\\site-packages (from google-auth<3.0.0dev,>=2.14.1->google-cloud-bigquery) (5.5.0)\n",
      "Requirement already satisfied: pyasn1-modules>=0.2.1 in c:\\users\\hp\\desktop\\vscode\\113356003_datamodel_assignment2\\venv\\lib\\site-packages (from google-auth<3.0.0dev,>=2.14.1->google-cloud-bigquery) (0.4.1)\n",
      "Requirement already satisfied: rsa<5,>=3.1.4 in c:\\users\\hp\\desktop\\vscode\\113356003_datamodel_assignment2\\venv\\lib\\site-packages (from google-auth<3.0.0dev,>=2.14.1->google-cloud-bigquery) (4.9)\n",
      "Requirement already satisfied: google-crc32c<2.0dev,>=1.0 in c:\\users\\hp\\desktop\\vscode\\113356003_datamodel_assignment2\\venv\\lib\\site-packages (from google-resumable-media<3.0dev,>=2.0.0->google-cloud-bigquery) (1.6.0)\n",
      "Requirement already satisfied: six>=1.5 in c:\\users\\hp\\desktop\\vscode\\113356003_datamodel_assignment2\\venv\\lib\\site-packages (from python-dateutil<3.0dev,>=2.7.3->google-cloud-bigquery) (1.16.0)\n",
      "Requirement already satisfied: charset-normalizer<4,>=2 in c:\\users\\hp\\desktop\\vscode\\113356003_datamodel_assignment2\\venv\\lib\\site-packages (from requests<3.0.0dev,>=2.21.0->google-cloud-bigquery) (3.4.0)\n",
      "Requirement already satisfied: idna<4,>=2.5 in c:\\users\\hp\\desktop\\vscode\\113356003_datamodel_assignment2\\venv\\lib\\site-packages (from requests<3.0.0dev,>=2.21.0->google-cloud-bigquery) (3.10)\n",
      "Requirement already satisfied: urllib3<3,>=1.21.1 in c:\\users\\hp\\desktop\\vscode\\113356003_datamodel_assignment2\\venv\\lib\\site-packages (from requests<3.0.0dev,>=2.21.0->google-cloud-bigquery) (2.2.3)\n",
      "Requirement already satisfied: certifi>=2017.4.17 in c:\\users\\hp\\desktop\\vscode\\113356003_datamodel_assignment2\\venv\\lib\\site-packages (from requests<3.0.0dev,>=2.21.0->google-cloud-bigquery) (2024.8.30)\n",
      "Requirement already satisfied: pyasn1<0.7.0,>=0.4.6 in c:\\users\\hp\\desktop\\vscode\\113356003_datamodel_assignment2\\venv\\lib\\site-packages (from pyasn1-modules>=0.2.1->google-auth<3.0.0dev,>=2.14.1->google-cloud-bigquery) (0.6.1)\n",
      "Note: you may need to restart the kernel to use updated packages.\n",
      "Requirement already satisfied: google-cloud-storage in c:\\users\\hp\\desktop\\vscode\\113356003_datamodel_assignment2\\venv\\lib\\site-packages (2.18.2)\n",
      "Requirement already satisfied: google-auth<3.0dev,>=2.26.1 in c:\\users\\hp\\desktop\\vscode\\113356003_datamodel_assignment2\\venv\\lib\\site-packages (from google-cloud-storage) (2.36.0)\n",
      "Requirement already satisfied: google-api-core<3.0.0dev,>=2.15.0 in c:\\users\\hp\\desktop\\vscode\\113356003_datamodel_assignment2\\venv\\lib\\site-packages (from google-cloud-storage) (2.22.0)\n",
      "Requirement already satisfied: google-cloud-core<3.0dev,>=2.3.0 in c:\\users\\hp\\desktop\\vscode\\113356003_datamodel_assignment2\\venv\\lib\\site-packages (from google-cloud-storage) (2.4.1)\n",
      "Requirement already satisfied: google-resumable-media>=2.7.2 in c:\\users\\hp\\desktop\\vscode\\113356003_datamodel_assignment2\\venv\\lib\\site-packages (from google-cloud-storage) (2.7.2)\n",
      "Requirement already satisfied: requests<3.0.0dev,>=2.18.0 in c:\\users\\hp\\desktop\\vscode\\113356003_datamodel_assignment2\\venv\\lib\\site-packages (from google-cloud-storage) (2.32.3)\n",
      "Requirement already satisfied: google-crc32c<2.0dev,>=1.0 in c:\\users\\hp\\desktop\\vscode\\113356003_datamodel_assignment2\\venv\\lib\\site-packages (from google-cloud-storage) (1.6.0)\n",
      "Requirement already satisfied: googleapis-common-protos<2.0.dev0,>=1.56.2 in c:\\users\\hp\\desktop\\vscode\\113356003_datamodel_assignment2\\venv\\lib\\site-packages (from google-api-core<3.0.0dev,>=2.15.0->google-cloud-storage) (1.65.0)\n",
      "Requirement already satisfied: protobuf!=3.20.0,!=3.20.1,!=4.21.0,!=4.21.1,!=4.21.2,!=4.21.3,!=4.21.4,!=4.21.5,<6.0.0.dev0,>=3.19.5 in c:\\users\\hp\\desktop\\vscode\\113356003_datamodel_assignment2\\venv\\lib\\site-packages (from google-api-core<3.0.0dev,>=2.15.0->google-cloud-storage) (5.28.3)\n",
      "Requirement already satisfied: proto-plus<2.0.0dev,>=1.22.3 in c:\\users\\hp\\desktop\\vscode\\113356003_datamodel_assignment2\\venv\\lib\\site-packages (from google-api-core<3.0.0dev,>=2.15.0->google-cloud-storage) (1.25.0)\n",
      "Requirement already satisfied: cachetools<6.0,>=2.0.0 in c:\\users\\hp\\desktop\\vscode\\113356003_datamodel_assignment2\\venv\\lib\\site-packages (from google-auth<3.0dev,>=2.26.1->google-cloud-storage) (5.5.0)\n",
      "Requirement already satisfied: pyasn1-modules>=0.2.1 in c:\\users\\hp\\desktop\\vscode\\113356003_datamodel_assignment2\\venv\\lib\\site-packages (from google-auth<3.0dev,>=2.26.1->google-cloud-storage) (0.4.1)\n",
      "Requirement already satisfied: rsa<5,>=3.1.4 in c:\\users\\hp\\desktop\\vscode\\113356003_datamodel_assignment2\\venv\\lib\\site-packages (from google-auth<3.0dev,>=2.26.1->google-cloud-storage) (4.9)\n",
      "Requirement already satisfied: charset-normalizer<4,>=2 in c:\\users\\hp\\desktop\\vscode\\113356003_datamodel_assignment2\\venv\\lib\\site-packages (from requests<3.0.0dev,>=2.18.0->google-cloud-storage) (3.4.0)\n",
      "Requirement already satisfied: idna<4,>=2.5 in c:\\users\\hp\\desktop\\vscode\\113356003_datamodel_assignment2\\venv\\lib\\site-packages (from requests<3.0.0dev,>=2.18.0->google-cloud-storage) (3.10)\n",
      "Requirement already satisfied: urllib3<3,>=1.21.1 in c:\\users\\hp\\desktop\\vscode\\113356003_datamodel_assignment2\\venv\\lib\\site-packages (from requests<3.0.0dev,>=2.18.0->google-cloud-storage) (2.2.3)\n",
      "Requirement already satisfied: certifi>=2017.4.17 in c:\\users\\hp\\desktop\\vscode\\113356003_datamodel_assignment2\\venv\\lib\\site-packages (from requests<3.0.0dev,>=2.18.0->google-cloud-storage) (2024.8.30)\n",
      "Requirement already satisfied: pyasn1<0.7.0,>=0.4.6 in c:\\users\\hp\\desktop\\vscode\\113356003_datamodel_assignment2\\venv\\lib\\site-packages (from pyasn1-modules>=0.2.1->google-auth<3.0dev,>=2.26.1->google-cloud-storage) (0.6.1)\n",
      "Note: you may need to restart the kernel to use updated packages.\n"
     ]
    }
   ],
   "source": [
    "%pip install --upgrade pip\n",
    "%pip install google\n",
    "%pip install --upgrade google-cloud-bigtable\n",
    "%pip install --upgrade google-cloud-bigquery\n",
    "%pip install --upgrade google-cloud-storage"
   ]
  },
  {
   "cell_type": "markdown",
   "metadata": {},
   "source": [
    "import\n"
   ]
  },
  {
   "cell_type": "code",
   "execution_count": 2,
   "metadata": {},
   "outputs": [],
   "source": [
    "from google.cloud import bigtable\n",
    "from google.cloud import bigquery\n",
    "from google.cloud import storage\n",
    "from google.cloud.bigtable import column_family\n",
    "from google.oauth2 import service_account\n",
    "import base64"
   ]
  },
  {
   "cell_type": "markdown",
   "metadata": {},
   "source": [
    "### Task 1\n"
   ]
  },
  {
   "cell_type": "code",
   "execution_count": 3,
   "metadata": {},
   "outputs": [],
   "source": [
    "project_id = \"assignment2-113356003-441002\"\n",
    "instance_id = 'studentinstance'\n",
    "instance_table_id = 'student_data'"
   ]
  },
  {
   "cell_type": "markdown",
   "metadata": {},
   "source": [
    "clients\n"
   ]
  },
  {
   "cell_type": "code",
   "execution_count": 5,
   "metadata": {},
   "outputs": [],
   "source": [
    "credentials = service_account.Credentials.from_service_account_file(\n",
    "    'assignment2-113356003-441002-3c88df9a7aaa.json')\n",
    "\n",
    "bigtable_client = bigtable.Client(project=project_id, admin=True, credentials=credentials)\n",
    "bigquery_client = bigquery.Client(project=project_id, credentials=credentials)\n",
    "storage_client = storage.Client(project=project_id, credentials=credentials)\n",
    "\n",
    "instance = bigtable_client.instance(instance_id)"
   ]
  },
  {
   "cell_type": "code",
   "execution_count": 6,
   "metadata": {},
   "outputs": [
    {
     "name": "stdout",
     "output_type": "stream",
     "text": [
      "Table: student_data is not exist. Creates the table.\n"
     ]
    }
   ],
   "source": [
    "# Create a Bigtable instance if it does not exist\n",
    "if not instance.exists():\n",
    "    print(f\"Creating instance {instance_id}\")\n",
    "    instance.create()\n",
    "\n",
    "table = instance.table(instance_table_id)\n",
    "column_families = {\"user_info\": None, \"activity_log\": None}\n",
    "\n",
    "if table.exists():\n",
    "    print(f\"Table: {instance_table_id} exists. Deleting the table.\")\n",
    "    table.delete()\n",
    "\n",
    "if not table.exists():\n",
    "    print(f\"\"\"Table: {instance_table_id} is not exist. Creates the table.\"\"\")\n",
    "    table.create(column_families=column_families)"
   ]
  },
  {
   "cell_type": "code",
   "execution_count": 7,
   "metadata": {},
   "outputs": [
    {
     "name": "stdout",
     "output_type": "stream",
     "text": [
      "{'row_key': 'User1', 'user_info': 'Alice', 'activity': 'login', 'activity_log': '2024-01-01T12:00:00Z'}\n",
      "{'row_key': 'User2', 'user_info': 'Bob', 'activity': 'purchase', 'activity_log': '2024-01-02T08:30:00Z'}\n",
      "{'row_key': 'User3', 'user_info': 'Cindy', 'activity': 'login', 'activity_log': '2024-01-03T15:45:00Z'}\n",
      "{'row_key': 'User4', 'user_info': 'David', 'activity': 'purchase', 'activity_log': '2024-01-05T17:36:00Z'}\n",
      "DataFrame:   Row Key activity_log:activity activity_log:activity_log user_info:user_info\n",
      "0   User1                 login      2024-01-01T12:00:00Z               Alice\n",
      "1   User2              purchase      2024-01-02T08:30:00Z                 Bob\n",
      "2   User3                 login      2024-01-03T15:45:00Z               Cindy\n",
      "3   User4              purchase      2024-01-05T17:36:00Z               David\n",
      "Data inserted successfully.\n"
     ]
    }
   ],
   "source": [
    "data = [\n",
    "    {\"row_key\": \"User1\", \"user_info\": \"Alice\", \"activity\": \"login\", \"activity_log\": \"2024-01-01T12:00:00Z\"},\n",
    "    {\"row_key\": \"User2\", \"user_info\": \"Bob\", \"activity\": \"purchase\", \"activity_log\": \"2024-01-02T08:30:00Z\"},\n",
    "    {\"row_key\": \"User3\", \"user_info\": \"Cindy\", \"activity\": \"login\", \"activity_log\": \"2024-01-03T15:45:00Z\"},\n",
    "    {\"row_key\": \"User4\", \"user_info\": \"David\", \"activity\": \"purchase\", \"activity_log\": \"2024-01-05T17:36:00Z\"},\n",
    "]\n",
    "\n",
    "# Insert data into the table\n",
    "for entry in data:\n",
    "    print(entry)\n",
    "    row = table.direct_row(entry[\"row_key\"])\n",
    "    row.set_cell(\"user_info\", \"user_info\", entry[\"user_info\"])\n",
    "    row.set_cell(\"activity_log\", \"activity\", entry[\"activity\"])\n",
    "    row.set_cell(\"activity_log\", \"activity_log\", entry[\"activity_log\"])\n",
    "    row.commit()\n",
    "\n",
    "from google.cloud.bigtable import row_filters\n",
    "\n",
    "table = instance.table(instance_table_id)\n",
    "\n",
    "# 定義過濾器來讀取所有行\n",
    "filter_ = row_filters.PassAllFilter(True)\n",
    "\n",
    "# 掃描表格並讀取資料\n",
    "rows = table.read_rows(filter_=filter_)\n",
    "rows.consume_all()  # 確保抓取所有行\n",
    "\n",
    "import pandas as pd\n",
    "\n",
    "# Create a list to store the data\n",
    "data = []\n",
    "\n",
    "# Iterate over rows and append data to the list\n",
    "for row_key, row in rows.rows.items():\n",
    "    row_data = {\"Row Key\": row_key.decode(\"utf-8\")}\n",
    "    for column_family_id, columns in row.cells.items():\n",
    "        for column_name, cells in columns.items():\n",
    "            for cell in cells:\n",
    "                column = f\"{column_family_id}:{column_name.decode('utf-8')}\"\n",
    "                row_data[column] = cell.value.decode(\"utf-8\")\n",
    "    data.append(row_data)\n",
    "\n",
    "# Convert data to a pandas DataFrame\n",
    "df = pd.DataFrame(data)\n",
    "print(f\"DataFrame: {df}\")\n",
    "\n",
    "print(\"Data inserted successfully.\")"
   ]
  },
  {
   "cell_type": "markdown",
   "metadata": {},
   "source": [
    "### Task 2\n"
   ]
  },
  {
   "cell_type": "code",
   "execution_count": 8,
   "metadata": {},
   "outputs": [],
   "source": [
    "project_id = \"assignment2-113356003-441002\"\n",
    "instance_id = 'studentinstance'\n",
    "dataset_id = \"bq_assignment2\"\n",
    "table_id = \"bigtable_external\"\n",
    "data_id = 'student_data'"
   ]
  },
  {
   "cell_type": "code",
   "execution_count": 9,
   "metadata": {},
   "outputs": [],
   "source": [
    "source_uri = f\"https://googleapis.com/bigtable/projects/{project_id}/instances/{instance_id}/tables/{data_id}\""
   ]
  },
  {
   "cell_type": "code",
   "execution_count": 10,
   "metadata": {},
   "outputs": [],
   "source": [
    "# Define the external table configuration\n",
    "external_config = bigquery.ExternalConfig(\"BIGTABLE\")\n",
    "external_config.source_uris = [source_uri]"
   ]
  },
  {
   "cell_type": "code",
   "execution_count": 11,
   "metadata": {},
   "outputs": [],
   "source": [
    "# Define the 'user_info' column family and columns\n",
    "## Ｃolumn 1\n",
    "user_info_family_column_1 = bigquery.BigtableColumn()\n",
    "user_info_family_column_1.qualifier_encoded = base64.b64encode(b\"user_info\").decode(\"utf-8\")\n",
    "user_info_family_column_1.field_name = \"user_name\"\n",
    "user_info_family_column_1.type_ = \"STRING\"\n",
    "\n",
    "## Define the column families\n",
    "user_info_family = bigquery.BigtableColumnFamily()\n",
    "user_info_family.family_id = \"user_info\"\n",
    "user_info_family.columns = [user_info_family_column_1]\n",
    "\n",
    "# Define the 'activity_log' column family and columns\n",
    "## Ｃolumn 1\n",
    "activity_log_family_column1 = bigquery.BigtableColumn()\n",
    "activity_log_family_column1.qualifier_encoded = base64.b64encode(b\"activity\").decode(\n",
    "    \"utf-8\"\n",
    ")\n",
    "activity_log_family_column1.field_name = \"activity_type\"\n",
    "activity_log_family_column1.type_ = \"STRING\"\n",
    "\n",
    "## Ｃolumn 2\n",
    "activity_log_family_column2 = bigquery.BigtableColumn()\n",
    "activity_log_family_column2.qualifier_encoded = base64.b64encode(b\"activity_log\").decode(\n",
    "    \"utf-8\"\n",
    ")\n",
    "activity_log_family_column2.field_name = \"activity_time\"\n",
    "activity_log_family_column2.type_ = \"STRING\"\n",
    "\n",
    "## Define the column families\n",
    "activity_log_family = bigquery.BigtableColumnFamily()\n",
    "activity_log_family.family_id = \"activity_log\"\n",
    "activity_log_family.columns = [activity_log_family_column1, activity_log_family_column2]\n",
    "\n",
    "# Add the column families to the external configuration\n",
    "external_config.bigtable_options.column_families = [\n",
    "    user_info_family,\n",
    "    activity_log_family,\n",
    "]\n",
    "\n",
    "external_table_name = \"bigtable_external\""
   ]
  },
  {
   "cell_type": "code",
   "execution_count": 12,
   "metadata": {},
   "outputs": [
    {
     "name": "stdout",
     "output_type": "stream",
     "text": [
      "External table 'bigtable_external' created successfully!\n"
     ]
    }
   ],
   "source": [
    "# Create a table reference\n",
    "dataset_ref = bigquery_client.dataset(dataset_id)\n",
    "table_ref = dataset_ref.table(external_table_name)\n",
    "table = bigquery.Table(table_ref)\n",
    "table.external_data_configuration = external_config\n",
    "\n",
    "# Create the table in BigQuery\n",
    "bigquery_client.create_table(table, exists_ok=True)\n",
    "\n",
    "print(f\"External table '{external_table_name}' created successfully!\")"
   ]
  },
  {
   "cell_type": "markdown",
   "metadata": {},
   "source": [
    "### Task 3\n"
   ]
  },
  {
   "cell_type": "code",
   "execution_count": 13,
   "metadata": {},
   "outputs": [],
   "source": [
    "project_id = 'assignment2-113356003-441002'\n",
    "dataset_id = \"bq_assignment2\"\n",
    "table_id = \"cloud_storage_external\"\n",
    "bucket_name = \"assignment2_bucket1\"\n",
    "source_file_name = \"activity_log.csv\"\n",
    "destination_blob_name = \"activity_log.csv\"\n",
    "file_path = \"gs://assignment2_bucket1/activity_log.csv\" "
   ]
  },
  {
   "cell_type": "code",
   "execution_count": 14,
   "metadata": {},
   "outputs": [],
   "source": [
    "def create_bucket(bucket_name):\n",
    "    \"\"\"Creates a new bucket if it does not exist.\"\"\"\n",
    "    bucket = storage_client.bucket(bucket_name)\n",
    "\n",
    "    if not bucket.exists():\n",
    "        bucket = storage_client.create_bucket(bucket_name)\n",
    "        print(f\"Bucket {bucket_name} created.\")\n",
    "    else:\n",
    "        print(f\"Bucket {bucket_name} already exists.\")"
   ]
  },
  {
   "cell_type": "code",
   "execution_count": 15,
   "metadata": {},
   "outputs": [],
   "source": [
    "def upload_to_bucket(bucket_name, source_file_name, destination_blob_name):\n",
    "    \"\"\"Uploads a file to a Cloud Storage bucket.\"\"\"\n",
    "\n",
    "    bucket = storage_client.get_bucket(bucket_name)\n",
    "    blob = bucket.blob(destination_blob_name)\n",
    "    blob.upload_from_filename(source_file_name)\n",
    "    print(f\"File {source_file_name} uploaded to {destination_blob_name}.\")"
   ]
  },
  {
   "cell_type": "code",
   "execution_count": 16,
   "metadata": {},
   "outputs": [
    {
     "name": "stdout",
     "output_type": "stream",
     "text": [
      "Bucket assignment2_bucket1 created.\n",
      "File activity_log.csv uploaded to activity_log.csv.\n"
     ]
    }
   ],
   "source": [
    "# Create the bucket if it does not exist\n",
    "create_bucket(bucket_name)\n",
    "# Upload the file to the bucket\n",
    "upload_to_bucket(bucket_name, source_file_name, destination_blob_name)"
   ]
  },
  {
   "cell_type": "code",
   "execution_count": 17,
   "metadata": {},
   "outputs": [
    {
     "name": "stdout",
     "output_type": "stream",
     "text": [
      "Created external table cloud_storage_external linked to gs://assignment2_bucket1/activity_log.csv.\n"
     ]
    }
   ],
   "source": [
    "#Define the dataset\n",
    "dataset_ref = bigquery_client.dataset(dataset_id)\n",
    "# Define the external table configuration with the updated schema\n",
    "table_ref = dataset_ref.table(table_id)\n",
    "external_config = bigquery.ExternalConfig(\"CSV\")\n",
    "external_config.source_uris = [file_path]\n",
    "external_config.options.skip_leading_rows = 1\n",
    "external_config.schema = [\n",
    "    bigquery.SchemaField(\"user_info\", \"STRING\"),\n",
    "    bigquery.SchemaField(\"activity\", \"STRING\"),\n",
    "    bigquery.SchemaField(\"activity_log\", \"TIMESTAMP\"),\n",
    "    bigquery.SchemaField(\"location\", \"STRING\"),\n",
    "    bigquery.SchemaField(\"device_type\", \"STRING\"),\n",
    "]\n",
    "\n",
    "# Create the external table with the updated schema\n",
    "table = bigquery.Table(table_ref)\n",
    "table.external_data_configuration = external_config\n",
    "\n",
    "table = bigquery_client.create_table(table)  # Recreate the table with the new schema\n",
    "print(f\"Created external table {table_id} linked to {file_path}.\")"
   ]
  },
  {
   "cell_type": "markdown",
   "metadata": {},
   "source": [
    "### Task 4\n"
   ]
  },
  {
   "cell_type": "code",
   "execution_count": 18,
   "metadata": {},
   "outputs": [],
   "source": [
    "project_id = 'assignment2-113356003-441002'\n",
    "dataset_id = \"bq_assignment2\""
   ]
  },
  {
   "cell_type": "code",
   "execution_count": 19,
   "metadata": {},
   "outputs": [
    {
     "name": "stderr",
     "output_type": "stream",
     "text": [
      "c:\\Users\\HP\\Desktop\\VSCode\\113356003_datamodel_assignment2\\venv\\Lib\\site-packages\\google\\cloud\\bigquery\\table.py:1727: UserWarning: BigQuery Storage module not found, fetch data with the REST endpoint instead.\n",
      "  warnings.warn(\n"
     ]
    },
    {
     "name": "stdout",
     "output_type": "stream",
     "text": [
      "Task 4: Query Results\n"
     ]
    },
    {
     "data": {
      "text/html": [
       "<div>\n",
       "<style scoped>\n",
       "    .dataframe tbody tr th:only-of-type {\n",
       "        vertical-align: middle;\n",
       "    }\n",
       "\n",
       "    .dataframe tbody tr th {\n",
       "        vertical-align: top;\n",
       "    }\n",
       "\n",
       "    .dataframe thead th {\n",
       "        text-align: right;\n",
       "    }\n",
       "</style>\n",
       "<table border=\"1\" class=\"dataframe\">\n",
       "  <thead>\n",
       "    <tr style=\"text-align: right;\">\n",
       "      <th></th>\n",
       "      <th>user_name</th>\n",
       "      <th>activity_type</th>\n",
       "      <th>activity_timestamp</th>\n",
       "    </tr>\n",
       "  </thead>\n",
       "  <tbody>\n",
       "    <tr>\n",
       "      <th>0</th>\n",
       "      <td>Alice</td>\n",
       "      <td>login</td>\n",
       "      <td>2024-01-01T12:00:00Z</td>\n",
       "    </tr>\n",
       "  </tbody>\n",
       "</table>\n",
       "</div>"
      ],
      "text/plain": [
       "  user_name activity_type    activity_timestamp\n",
       "0     Alice         login  2024-01-01T12:00:00Z"
      ]
     },
     "execution_count": 19,
     "metadata": {},
     "output_type": "execute_result"
    }
   ],
   "source": [
    "query = \"\"\"\n",
    "    SELECT\n",
    "        bt.user_info.user_name.`cell`[SAFE_OFFSET(0)].value AS user_name,\n",
    "        bt.activity_log.activity_type.`cell`[SAFE_OFFSET(0)].value AS activity_type,\n",
    "        bt.activity_log.activity_time.`cell`[SAFE_OFFSET(0)].value AS activity_timestamp,\n",
    "    FROM\n",
    "        `assignment2-113356003-441002.bq_assignment2.bigtable_external` AS bt\n",
    "    INNER JOIN\n",
    "        `assignment2-113356003-441002.bq_assignment2.cloud_storage_external` AS cs\n",
    "    ON\n",
    "        bt.user_info.user_name.`cell`[SAFE_OFFSET(0)].value= cs.user_info\n",
    "    WHERE\n",
    "        bt.activity_log.activity_type.`cell`[SAFE_OFFSET(0)].value = 'login'\n",
    "    ORDER BY\n",
    "        bt.activity_log.activity_time.`cell`[SAFE_OFFSET(0)].value DESC\n",
    "\n",
    "\"\"\"\n",
    "\n",
    "# Execute the query and convert results to a DataFrame\n",
    "query_job = bigquery_client.query(query)\n",
    "task4_results = query_job.result().to_dataframe()\n",
    "\n",
    "# Display the results\n",
    "print(\"Task 4: Query Results\")\n",
    "task4_results"
   ]
  },
  {
   "cell_type": "markdown",
   "metadata": {},
   "source": [
    "### Task 5\n"
   ]
  },
  {
   "cell_type": "code",
   "execution_count": 20,
   "metadata": {},
   "outputs": [],
   "source": [
    "# Define project and dataset information\n",
    "project_id = \"assignment2-113356003-441002\"\n",
    "dataset_id = \"bq_assignment2\""
   ]
  },
  {
   "cell_type": "code",
   "execution_count": 21,
   "metadata": {},
   "outputs": [
    {
     "name": "stderr",
     "output_type": "stream",
     "text": [
      "c:\\Users\\HP\\Desktop\\VSCode\\113356003_datamodel_assignment2\\venv\\Lib\\site-packages\\google\\cloud\\bigquery\\table.py:1727: UserWarning: BigQuery Storage module not found, fetch data with the REST endpoint instead.\n",
      "  warnings.warn(\n"
     ]
    },
    {
     "data": {
      "text/html": [
       "<div>\n",
       "<style scoped>\n",
       "    .dataframe tbody tr th:only-of-type {\n",
       "        vertical-align: middle;\n",
       "    }\n",
       "\n",
       "    .dataframe tbody tr th {\n",
       "        vertical-align: top;\n",
       "    }\n",
       "\n",
       "    .dataframe thead th {\n",
       "        text-align: right;\n",
       "    }\n",
       "</style>\n",
       "<table border=\"1\" class=\"dataframe\">\n",
       "  <thead>\n",
       "    <tr style=\"text-align: right;\">\n",
       "      <th></th>\n",
       "      <th>user_name</th>\n",
       "      <th>login_count</th>\n",
       "      <th>rank</th>\n",
       "    </tr>\n",
       "  </thead>\n",
       "  <tbody>\n",
       "    <tr>\n",
       "      <th>0</th>\n",
       "      <td>Alice</td>\n",
       "      <td>1</td>\n",
       "      <td>1</td>\n",
       "    </tr>\n",
       "  </tbody>\n",
       "</table>\n",
       "</div>"
      ],
      "text/plain": [
       "  user_name  login_count  rank\n",
       "0     Alice            1     1"
      ]
     },
     "execution_count": 21,
     "metadata": {},
     "output_type": "execute_result"
    }
   ],
   "source": [
    "query = \"\"\"\n",
    "    WITH login_counts AS (\n",
    "        SELECT\n",
    "            user_name,\n",
    "            COUNT(*) AS login_count\n",
    "        FROM (\n",
    "            SELECT\n",
    "                bt.user_info.user_name.`cell`[SAFE_OFFSET(0)].value AS user_name\n",
    "            FROM\n",
    "                `assignment2-113356003-441002.bq_assignment2.bigtable_external` AS bt\n",
    "            INNER JOIN\n",
    "                `assignment2-113356003-441002.bq_assignment2.cloud_storage_external` AS cs\n",
    "            ON\n",
    "                bt.user_info.user_name.`cell`[SAFE_OFFSET(0)].value = cs.user_info\n",
    "            WHERE\n",
    "                bt.activity_log.activity_type.`cell`[SAFE_OFFSET(0)].value = 'login'\n",
    "        )\n",
    "        GROUP BY\n",
    "            user_name\n",
    "    )\n",
    "    SELECT\n",
    "        user_name,\n",
    "        login_count,\n",
    "        RANK() OVER (ORDER BY login_count DESC) AS rank\n",
    "    FROM\n",
    "        login_counts\n",
    "    ORDER BY\n",
    "        rank\n",
    "    LIMIT 2\n",
    "\"\"\"\n",
    "\n",
    "# Execute the query and convert the result to a DataFrame\n",
    "df = bigquery_client.query(query).to_dataframe()\n",
    "\n",
    "# Display the results\n",
    "df"
   ]
  },
  {
   "cell_type": "markdown",
   "metadata": {},
   "source": [
    "### Task 6\n"
   ]
  },
  {
   "cell_type": "code",
   "execution_count": 22,
   "metadata": {},
   "outputs": [],
   "source": [
    "# Define project and dataset information\n",
    "project_id = \"assignment2-113356003-441002\"\n",
    "dataset_id = \"bq_assignment2\""
   ]
  },
  {
   "cell_type": "code",
   "execution_count": 23,
   "metadata": {},
   "outputs": [
    {
     "name": "stdout",
     "output_type": "stream",
     "text": [
      "Access granted to 113356042@g.nccu.edu.tw with role READER.\n"
     ]
    }
   ],
   "source": [
    "dataset = bigquery_client.get_dataset(dataset_id)\n",
    "# Define the new access entry\n",
    "access_entry = bigquery.AccessEntry(\n",
    "    role=\"READER\",  # Equivalent to bigquery.dataViewer\n",
    "    entity_type=\"userByEmail\",\n",
    "    entity_id=\"113356042@g.nccu.edu.tw\"\n",
    ")\n",
    "\n",
    "# Add the new access entry to the dataset's access entries\n",
    "entries = list(dataset.access_entries)\n",
    "entries.append(access_entry)\n",
    "dataset.access_entries = entries\n",
    "\n",
    "# Update the dataset with the new access permissions\n",
    "bigquery_client.update_dataset(dataset, [\"access_entries\"])\n",
    "\n",
    "print(f\"Access granted to {access_entry.entity_id} with role {access_entry.role}.\")"
   ]
  }
 ],
 "metadata": {
  "kernelspec": {
   "display_name": "venv",
   "language": "python",
   "name": "python3"
  },
  "language_info": {
   "codemirror_mode": {
    "name": "ipython",
    "version": 3
   },
   "file_extension": ".py",
   "mimetype": "text/x-python",
   "name": "python",
   "nbconvert_exporter": "python",
   "pygments_lexer": "ipython3",
   "version": "3.11.4"
  }
 },
 "nbformat": 4,
 "nbformat_minor": 2
}
